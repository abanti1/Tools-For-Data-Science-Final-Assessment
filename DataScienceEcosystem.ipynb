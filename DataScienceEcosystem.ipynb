{
 "cells": [
  {
   "cell_type": "markdown",
   "id": "f4bcf37c-35eb-4ae3-86a2-91fb04b1a98c",
   "metadata": {},
   "source": [
    "# Data Science Tools and Ecosystem"
   ]
  },
  {
   "cell_type": "markdown",
   "id": "75d4f6b8-82fc-4f3d-a2e3-24846cd87189",
   "metadata": {},
   "source": [
    "In this notebook, Data Science Tools and Ecosystem are summarized."
   ]
  },
  {
   "cell_type": "markdown",
   "id": "06c0741a-b849-4755-8647-e196ee28fbd9",
   "metadata": {},
   "source": [
    "Some of the popular languages that Data Scientists use are:\n",
    "1. R\n",
    "2. Python\n",
    "3. SQL"
   ]
  },
  {
   "cell_type": "markdown",
   "id": "0f2ec2e2-203b-4bd2-88d9-8ecf20110a38",
   "metadata": {},
   "source": [
    "Some of the commonly used libraries used by Data Scientists include:\n",
    "1. TensorFlow.\n",
    "2. Pandas\n",
    "3. NumPy"
   ]
  },
  {
   "cell_type": "markdown",
   "id": "d945cfee-370c-414a-ad4b-4fc2b4dd386f",
   "metadata": {},
   "source": [
    "| Data Science Tools |\n",
    "|--------------------|\n",
    "| MySQL |\n",
    "| Apache Spark |\n",
    "| TensorFlow |"
   ]
  },
  {
   "cell_type": "markdown",
   "id": "7dd7041a-6634-473a-8be0-0e2acdef7062",
   "metadata": {},
   "source": [
    "### Below are a few examples of evaluating arithmetic expressions in Python"
   ]
  },
  {
   "cell_type": "code",
   "execution_count": 3,
   "id": "7bdeefdb-536f-4f86-92c6-5e02480b9932",
   "metadata": {
    "tags": []
   },
   "outputs": [
    {
     "data": {
      "text/plain": [
       "17"
      ]
     },
     "execution_count": 3,
     "metadata": {},
     "output_type": "execute_result"
    }
   ],
   "source": [
    "# This a simple arithmetic expression to mutiply then add integers\n",
    "(3*4)+5"
   ]
  },
  {
   "cell_type": "code",
   "execution_count": 4,
   "id": "156fca9a-f25d-430b-b180-1a886c77c0c3",
   "metadata": {
    "tags": []
   },
   "outputs": [
    {
     "data": {
      "text/plain": [
       "3.3333333333333335"
      ]
     },
     "execution_count": 4,
     "metadata": {},
     "output_type": "execute_result"
    }
   ],
   "source": [
    "#  This will convert 200 minutes to hours by diving by 60\n",
    "200/60"
   ]
  },
  {
   "cell_type": "markdown",
   "id": "4d16224b-b287-402b-b3f5-7814a12c64b2",
   "metadata": {},
   "source": [
    "Objectives:\n",
    "- Create a Jupyter Notebook\n",
    "- Create markdown cell with title of the notebook\n",
    "- Create a markdown cell for an introduction"
   ]
  },
  {
   "cell_type": "markdown",
   "id": "f262173e-f335-4c42-8562-78d680978341",
   "metadata": {},
   "source": [
    "## Author\n",
    "Abanti Ghosh"
   ]
  },
  {
   "cell_type": "code",
   "execution_count": null,
   "id": "05309a83-4b86-4d37-8839-22eaba2874c0",
   "metadata": {},
   "outputs": [],
   "source": []
  }
 ],
 "metadata": {
  "kernelspec": {
   "display_name": "Python",
   "language": "python",
   "name": "conda-env-python-py"
  },
  "language_info": {
   "codemirror_mode": {
    "name": "ipython",
    "version": 3
   },
   "file_extension": ".py",
   "mimetype": "text/x-python",
   "name": "python",
   "nbconvert_exporter": "python",
   "pygments_lexer": "ipython3",
   "version": "3.7.12"
  }
 },
 "nbformat": 4,
 "nbformat_minor": 5
}
